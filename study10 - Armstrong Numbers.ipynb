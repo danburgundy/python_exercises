{
 "cells": [
  {
   "cell_type": "code",
   "execution_count": 6,
   "metadata": {},
   "outputs": [
    {
     "name": "stdout",
     "output_type": "stream",
     "text": [
      "407 is an Armstrong Number.\n"
     ]
    }
   ],
   "source": [
    "## ARMSTRONG NUMBERS\n",
    "# Find out if a given number is an \"Armstrong Number\".\n",
    "\n",
    "# An -n digit number that is the sum of the nth powers of its digits is called an n-Armstong numberdatetime A combination of a date and a time. Attributes:\n",
    "# Examples:\n",
    "# 1. 371 = 3**3 + 7**3 + 1**3;\n",
    "# 2. 9474 = 9**4 + 4**4 + 7**4 + 4**4;\n",
    "# 3. 93084 = 9**5 + 3**5 + 0**5 + 8**5 + 4**5\n",
    "\n",
    "# Write python program that;\n",
    "# a- takes a positive integer number from the user,\n",
    "# b- checks the entered number if it is Armstrong,\n",
    "# c- consider the negative, float and any entries other than numeric values then display a warning message to users.\n",
    "\n",
    "while True : \n",
    "    \n",
    "    number = str(input(\"Enter a positive integer number here: \"))\n",
    "    digits = len(number)\n",
    "    summ = 0\n",
    "    \n",
    "    if not number.isdigit() : \n",
    "        print(number, \"is invalid entry. Enter valid input.\")\n",
    "        \n",
    "    elif int(number) >= 0 :\n",
    "        for i in range(digits) :\n",
    "            \n",
    "            summ = summ + int(number[i]) ** digits\n",
    "            \n",
    "        if summ == int(number) :\n",
    "            print(number, \"is an Armstrong Number.\")\n",
    "            break\n",
    "        \n",
    "        else :\n",
    "            print(number, \"is not an Armstrong Number.\")\n",
    "            break "
   ]
  },
  {
   "cell_type": "code",
   "execution_count": null,
   "metadata": {},
   "outputs": [],
   "source": []
  },
  {
   "cell_type": "code",
   "execution_count": null,
   "metadata": {},
   "outputs": [],
   "source": []
  }
 ],
 "metadata": {
  "interpreter": {
   "hash": "ac59ebe37160ed0dfa835113d9b8498d9f09ceb179beaac4002f036b9467c963"
  },
  "kernelspec": {
   "display_name": "Python 3.9.7 64-bit",
   "language": "python",
   "name": "python3"
  },
  "language_info": {
   "codemirror_mode": {
    "name": "ipython",
    "version": 3
   },
   "file_extension": ".py",
   "mimetype": "text/x-python",
   "name": "python",
   "nbconvert_exporter": "python",
   "pygments_lexer": "ipython3",
   "version": "3.9.7"
  },
  "orig_nbformat": 4
 },
 "nbformat": 4,
 "nbformat_minor": 2
}
